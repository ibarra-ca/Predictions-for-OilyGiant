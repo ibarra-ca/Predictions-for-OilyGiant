{
 "cells": [
  {
   "cell_type": "markdown",
   "metadata": {},
   "source": [
    "# Proyecto OilyGiant - Extracción de petróleo"
   ]
  },
  {
   "cell_type": "code",
   "execution_count": null,
   "metadata": {},
   "outputs": [],
   "source": [
    "# Importar librerias\n",
    "import pandas as pd\n",
    "import numpy as np\n",
    "from matplotlib import pyplot as plt\n",
    "from sklearn.model_selection import train_test_split\n",
    "from sklearn.metrics import root_mean_squared_error\n",
    "from sklearn.linear_model import LinearRegression\n"
   ]
  },
  {
   "cell_type": "code",
   "execution_count": 7,
   "metadata": {},
   "outputs": [],
   "source": [
    "# Cargar los datos\n",
    "data0  = pd.read_csv('datasets/geo_data_0.csv')\n",
    "data1  = pd.read_csv('datasets/geo_data_1.csv')\n",
    "data2  = pd.read_csv('datasets/geo_data_2.csv')\n"
   ]
  },
  {
   "cell_type": "code",
   "execution_count": 8,
   "metadata": {},
   "outputs": [
    {
     "name": "stdout",
     "output_type": "stream",
     "text": [
      "<class 'pandas.core.frame.DataFrame'>\n",
      "RangeIndex: 100000 entries, 0 to 99999\n",
      "Data columns (total 5 columns):\n",
      " #   Column   Non-Null Count   Dtype  \n",
      "---  ------   --------------   -----  \n",
      " 0   id       100000 non-null  object \n",
      " 1   f0       100000 non-null  float64\n",
      " 2   f1       100000 non-null  float64\n",
      " 3   f2       100000 non-null  float64\n",
      " 4   product  100000 non-null  float64\n",
      "dtypes: float64(4), object(1)\n",
      "memory usage: 3.8+ MB\n"
     ]
    },
    {
     "data": {
      "text/html": [
       "<div>\n",
       "<style scoped>\n",
       "    .dataframe tbody tr th:only-of-type {\n",
       "        vertical-align: middle;\n",
       "    }\n",
       "\n",
       "    .dataframe tbody tr th {\n",
       "        vertical-align: top;\n",
       "    }\n",
       "\n",
       "    .dataframe thead th {\n",
       "        text-align: right;\n",
       "    }\n",
       "</style>\n",
       "<table border=\"1\" class=\"dataframe\">\n",
       "  <thead>\n",
       "    <tr style=\"text-align: right;\">\n",
       "      <th></th>\n",
       "      <th>id</th>\n",
       "      <th>f0</th>\n",
       "      <th>f1</th>\n",
       "      <th>f2</th>\n",
       "      <th>product</th>\n",
       "    </tr>\n",
       "  </thead>\n",
       "  <tbody>\n",
       "    <tr>\n",
       "      <th>0</th>\n",
       "      <td>txEyH</td>\n",
       "      <td>0.705745</td>\n",
       "      <td>-0.497823</td>\n",
       "      <td>1.221170</td>\n",
       "      <td>105.280062</td>\n",
       "    </tr>\n",
       "    <tr>\n",
       "      <th>1</th>\n",
       "      <td>2acmU</td>\n",
       "      <td>1.334711</td>\n",
       "      <td>-0.340164</td>\n",
       "      <td>4.365080</td>\n",
       "      <td>73.037750</td>\n",
       "    </tr>\n",
       "    <tr>\n",
       "      <th>2</th>\n",
       "      <td>409Wp</td>\n",
       "      <td>1.022732</td>\n",
       "      <td>0.151990</td>\n",
       "      <td>1.419926</td>\n",
       "      <td>85.265647</td>\n",
       "    </tr>\n",
       "    <tr>\n",
       "      <th>3</th>\n",
       "      <td>iJLyR</td>\n",
       "      <td>-0.032172</td>\n",
       "      <td>0.139033</td>\n",
       "      <td>2.978566</td>\n",
       "      <td>168.620776</td>\n",
       "    </tr>\n",
       "    <tr>\n",
       "      <th>4</th>\n",
       "      <td>Xdl7t</td>\n",
       "      <td>1.988431</td>\n",
       "      <td>0.155413</td>\n",
       "      <td>4.751769</td>\n",
       "      <td>154.036647</td>\n",
       "    </tr>\n",
       "  </tbody>\n",
       "</table>\n",
       "</div>"
      ],
      "text/plain": [
       "      id        f0        f1        f2     product\n",
       "0  txEyH  0.705745 -0.497823  1.221170  105.280062\n",
       "1  2acmU  1.334711 -0.340164  4.365080   73.037750\n",
       "2  409Wp  1.022732  0.151990  1.419926   85.265647\n",
       "3  iJLyR -0.032172  0.139033  2.978566  168.620776\n",
       "4  Xdl7t  1.988431  0.155413  4.751769  154.036647"
      ]
     },
     "execution_count": 8,
     "metadata": {},
     "output_type": "execute_result"
    }
   ],
   "source": [
    "# Analizar datos del primer conjunto\n",
    "data0.info()\n",
    "data0.head()"
   ]
  },
  {
   "cell_type": "code",
   "execution_count": 9,
   "metadata": {},
   "outputs": [
    {
     "name": "stdout",
     "output_type": "stream",
     "text": [
      "<class 'pandas.core.frame.DataFrame'>\n",
      "RangeIndex: 100000 entries, 0 to 99999\n",
      "Data columns (total 5 columns):\n",
      " #   Column   Non-Null Count   Dtype  \n",
      "---  ------   --------------   -----  \n",
      " 0   id       100000 non-null  object \n",
      " 1   f0       100000 non-null  float64\n",
      " 2   f1       100000 non-null  float64\n",
      " 3   f2       100000 non-null  float64\n",
      " 4   product  100000 non-null  float64\n",
      "dtypes: float64(4), object(1)\n",
      "memory usage: 3.8+ MB\n"
     ]
    },
    {
     "data": {
      "text/html": [
       "<div>\n",
       "<style scoped>\n",
       "    .dataframe tbody tr th:only-of-type {\n",
       "        vertical-align: middle;\n",
       "    }\n",
       "\n",
       "    .dataframe tbody tr th {\n",
       "        vertical-align: top;\n",
       "    }\n",
       "\n",
       "    .dataframe thead th {\n",
       "        text-align: right;\n",
       "    }\n",
       "</style>\n",
       "<table border=\"1\" class=\"dataframe\">\n",
       "  <thead>\n",
       "    <tr style=\"text-align: right;\">\n",
       "      <th></th>\n",
       "      <th>id</th>\n",
       "      <th>f0</th>\n",
       "      <th>f1</th>\n",
       "      <th>f2</th>\n",
       "      <th>product</th>\n",
       "    </tr>\n",
       "  </thead>\n",
       "  <tbody>\n",
       "    <tr>\n",
       "      <th>0</th>\n",
       "      <td>kBEdx</td>\n",
       "      <td>-15.001348</td>\n",
       "      <td>-8.276000</td>\n",
       "      <td>-0.005876</td>\n",
       "      <td>3.179103</td>\n",
       "    </tr>\n",
       "    <tr>\n",
       "      <th>1</th>\n",
       "      <td>62mP7</td>\n",
       "      <td>14.272088</td>\n",
       "      <td>-3.475083</td>\n",
       "      <td>0.999183</td>\n",
       "      <td>26.953261</td>\n",
       "    </tr>\n",
       "    <tr>\n",
       "      <th>2</th>\n",
       "      <td>vyE1P</td>\n",
       "      <td>6.263187</td>\n",
       "      <td>-5.948386</td>\n",
       "      <td>5.001160</td>\n",
       "      <td>134.766305</td>\n",
       "    </tr>\n",
       "    <tr>\n",
       "      <th>3</th>\n",
       "      <td>KcrkZ</td>\n",
       "      <td>-13.081196</td>\n",
       "      <td>-11.506057</td>\n",
       "      <td>4.999415</td>\n",
       "      <td>137.945408</td>\n",
       "    </tr>\n",
       "    <tr>\n",
       "      <th>4</th>\n",
       "      <td>AHL4O</td>\n",
       "      <td>12.702195</td>\n",
       "      <td>-8.147433</td>\n",
       "      <td>5.004363</td>\n",
       "      <td>134.766305</td>\n",
       "    </tr>\n",
       "  </tbody>\n",
       "</table>\n",
       "</div>"
      ],
      "text/plain": [
       "      id         f0         f1        f2     product\n",
       "0  kBEdx -15.001348  -8.276000 -0.005876    3.179103\n",
       "1  62mP7  14.272088  -3.475083  0.999183   26.953261\n",
       "2  vyE1P   6.263187  -5.948386  5.001160  134.766305\n",
       "3  KcrkZ -13.081196 -11.506057  4.999415  137.945408\n",
       "4  AHL4O  12.702195  -8.147433  5.004363  134.766305"
      ]
     },
     "execution_count": 9,
     "metadata": {},
     "output_type": "execute_result"
    }
   ],
   "source": [
    "# Analizar datos del segundo conjunto\n",
    "data1.info()\n",
    "data1.head()"
   ]
  },
  {
   "cell_type": "code",
   "execution_count": 10,
   "metadata": {},
   "outputs": [
    {
     "name": "stdout",
     "output_type": "stream",
     "text": [
      "<class 'pandas.core.frame.DataFrame'>\n",
      "RangeIndex: 100000 entries, 0 to 99999\n",
      "Data columns (total 5 columns):\n",
      " #   Column   Non-Null Count   Dtype  \n",
      "---  ------   --------------   -----  \n",
      " 0   id       100000 non-null  object \n",
      " 1   f0       100000 non-null  float64\n",
      " 2   f1       100000 non-null  float64\n",
      " 3   f2       100000 non-null  float64\n",
      " 4   product  100000 non-null  float64\n",
      "dtypes: float64(4), object(1)\n",
      "memory usage: 3.8+ MB\n"
     ]
    },
    {
     "data": {
      "text/html": [
       "<div>\n",
       "<style scoped>\n",
       "    .dataframe tbody tr th:only-of-type {\n",
       "        vertical-align: middle;\n",
       "    }\n",
       "\n",
       "    .dataframe tbody tr th {\n",
       "        vertical-align: top;\n",
       "    }\n",
       "\n",
       "    .dataframe thead th {\n",
       "        text-align: right;\n",
       "    }\n",
       "</style>\n",
       "<table border=\"1\" class=\"dataframe\">\n",
       "  <thead>\n",
       "    <tr style=\"text-align: right;\">\n",
       "      <th></th>\n",
       "      <th>id</th>\n",
       "      <th>f0</th>\n",
       "      <th>f1</th>\n",
       "      <th>f2</th>\n",
       "      <th>product</th>\n",
       "    </tr>\n",
       "  </thead>\n",
       "  <tbody>\n",
       "    <tr>\n",
       "      <th>0</th>\n",
       "      <td>fwXo0</td>\n",
       "      <td>-1.146987</td>\n",
       "      <td>0.963328</td>\n",
       "      <td>-0.828965</td>\n",
       "      <td>27.758673</td>\n",
       "    </tr>\n",
       "    <tr>\n",
       "      <th>1</th>\n",
       "      <td>WJtFt</td>\n",
       "      <td>0.262778</td>\n",
       "      <td>0.269839</td>\n",
       "      <td>-2.530187</td>\n",
       "      <td>56.069697</td>\n",
       "    </tr>\n",
       "    <tr>\n",
       "      <th>2</th>\n",
       "      <td>ovLUW</td>\n",
       "      <td>0.194587</td>\n",
       "      <td>0.289035</td>\n",
       "      <td>-5.586433</td>\n",
       "      <td>62.871910</td>\n",
       "    </tr>\n",
       "    <tr>\n",
       "      <th>3</th>\n",
       "      <td>q6cA6</td>\n",
       "      <td>2.236060</td>\n",
       "      <td>-0.553760</td>\n",
       "      <td>0.930038</td>\n",
       "      <td>114.572842</td>\n",
       "    </tr>\n",
       "    <tr>\n",
       "      <th>4</th>\n",
       "      <td>WPMUX</td>\n",
       "      <td>-0.515993</td>\n",
       "      <td>1.716266</td>\n",
       "      <td>5.899011</td>\n",
       "      <td>149.600746</td>\n",
       "    </tr>\n",
       "  </tbody>\n",
       "</table>\n",
       "</div>"
      ],
      "text/plain": [
       "      id        f0        f1        f2     product\n",
       "0  fwXo0 -1.146987  0.963328 -0.828965   27.758673\n",
       "1  WJtFt  0.262778  0.269839 -2.530187   56.069697\n",
       "2  ovLUW  0.194587  0.289035 -5.586433   62.871910\n",
       "3  q6cA6  2.236060 -0.553760  0.930038  114.572842\n",
       "4  WPMUX -0.515993  1.716266  5.899011  149.600746"
      ]
     },
     "execution_count": 10,
     "metadata": {},
     "output_type": "execute_result"
    }
   ],
   "source": [
    "# Analizar datos del tercer conjunto\n",
    "data2.info()\n",
    "data2.head()"
   ]
  },
  {
   "cell_type": "code",
   "execution_count": 11,
   "metadata": {},
   "outputs": [
    {
     "name": "stdout",
     "output_type": "stream",
     "text": [
      "Valores duplicados de geo_data_0:  0\n",
      "Valores duplicados de geo_data_1:  0\n",
      "Valores duplicados de geo_data_2:  0\n"
     ]
    }
   ],
   "source": [
    "# Identificar valores duplicados\n",
    "print(\"Valores duplicados de geo_data_0: \", data0.duplicated().sum())\n",
    "print(\"Valores duplicados de geo_data_1: \", data1.duplicated().sum())\n",
    "print(\"Valores duplicados de geo_data_2: \", data2.duplicated().sum())"
   ]
  },
  {
   "cell_type": "code",
   "execution_count": 13,
   "metadata": {},
   "outputs": [],
   "source": [
    "def preparar_datos(path):\n",
    "    df = pd.read_csv(path)\n",
    "    features = df.drop(['product', 'id'], axis=1)\n",
    "    target = df['product']\n",
    "    return features, target, df\n",
    "\n",
    "# Cargar datos de las tres regiones\n",
    "features_0, target_0, df_0 = preparar_datos('datasets/geo_data_0.csv')\n",
    "features_1, target_1, df_1 = preparar_datos('datasets/geo_data_1.csv')\n",
    "features_2, target_2, df_2 = preparar_datos('datasets/geo_data_2.csv')\n"
   ]
  },
  {
   "cell_type": "code",
   "execution_count": 17,
   "metadata": {},
   "outputs": [
    {
     "name": "stdout",
     "output_type": "stream",
     "text": [
      "RMSE región 0: 37.5794217150813\n",
      "RMSE región 1: 0.8930992867756168\n",
      "RMSE región 2: 40.02970873393434\n"
     ]
    }
   ],
   "source": [
    "def train_and_evaluate_model(features, target):\n",
    "    X_train, X_valid, y_train, y_valid = train_test_split(features, target, test_size=0.25, random_state=12345)\n",
    "    \n",
    "    model = LinearRegression()\n",
    "    model.fit(X_train, y_train)\n",
    "    \n",
    "    predictions = model.predict(X_valid)\n",
    "    rmse = root_mean_squared_error(y_valid, predictions)\n",
    "    mean_pred = predictions.mean()\n",
    "    \n",
    "    return model, predictions, y_valid.reset_index(drop=True), rmse, mean_pred\n",
    "\n",
    "# Entrenar los modelos\n",
    "model_0, preds_0, valid_0, rmse_0, mean_pred_0 = train_and_evaluate_model(features_0, target_0)\n",
    "model_1, preds_1, valid_1, rmse_1, mean_pred_1 = train_and_evaluate_model(features_1, target_1)\n",
    "model_2, preds_2, valid_2, rmse_2, mean_pred_2 = train_and_evaluate_model(features_2, target_2)\n",
    "\n",
    "print(\"RMSE región 0:\", rmse_0)\n",
    "print(\"RMSE región 1:\", rmse_1)\n",
    "print(\"RMSE región 2:\", rmse_2)"
   ]
  },
  {
   "cell_type": "code",
   "execution_count": 18,
   "metadata": {},
   "outputs": [
    {
     "name": "stdout",
     "output_type": "stream",
     "text": [
      "Ganancias potenciales para 200 mejores pozos:\n",
      "\n",
      "Región 0: $33,208,260.43\n",
      "Región 1: $24,150,866.97\n",
      "Región 2: $27,103,499.64\n"
     ]
    }
   ],
   "source": [
    "def calculate_profit(predictions, actuals):\n",
    "    top_200_indices = predictions.argsort()[-200:]\n",
    "    selected_actuals = actuals[top_200_indices]\n",
    "    return selected_actuals.sum() * 4500 - 100000000\n",
    "\n",
    "profit0 = calculate_profit(preds_0, valid_0)\n",
    "profit1 = calculate_profit(preds_1, valid_1)\n",
    "profit2 = calculate_profit(preds_2, valid_2)\n",
    "\n",
    "print(\"Ganancias potenciales para 200 mejores pozos:\\n\")\n",
    "print(f\"Región 0: ${profit0:,.2f}\")\n",
    "print(f\"Región 1: ${profit1:,.2f}\")\n",
    "print(f\"Región 2: ${profit2:,.2f}\")\n"
   ]
  },
  {
   "cell_type": "code",
   "execution_count": 19,
   "metadata": {},
   "outputs": [
    {
     "name": "stdout",
     "output_type": "stream",
     "text": [
      "Región 0 riesgo: 6.90% | Confianza: [-371815.96262546 8426881.61128137] | Promedio: $3,961,649.85 \n",
      "\n",
      "Región 1 riesgo: 1.50% | Confianza: [1094757.21454802 7910055.13259456] | Promedio: $4,560,451.06 \n",
      "\n",
      "Región 2 riesgo: 7.60% | Confianza: [-585334.41050501 8411239.96708137] | Promedio: $4,044,038.67 \n",
      "\n"
     ]
    }
   ],
   "source": [
    "def bootstrap_profit(predictions, actuals, n=1000):\n",
    "    state = np.random.RandomState(12345)\n",
    "    values = []\n",
    "    \n",
    "    for _ in range(n):\n",
    "        indices = state.choice(len(predictions), 500, replace=True)\n",
    "        sample_preds = predictions[indices]\n",
    "        sample_actuals = actuals[indices]\n",
    "        top_200 = sample_actuals[sample_preds.argsort()[-200:]]\n",
    "        profit = top_200.sum() * 4500 - 100_000_000\n",
    "        values.append(profit)\n",
    "        \n",
    "    profits = pd.Series(values)\n",
    "    \n",
    "    return profits.mean(), profits.quantile([0.05, 0.95]), (profits < 0).mean()\n",
    "\n",
    "mean_0, conf_0, risk_0 = bootstrap_profit(preds_0, valid_0.to_numpy())\n",
    "mean_1, conf_1, risk_1 = bootstrap_profit(preds_1, valid_1.to_numpy())\n",
    "mean_2, conf_2, risk_2 = bootstrap_profit(preds_2, valid_2.to_numpy())\n",
    "\n",
    "print(f\"Región 0 riesgo: {risk_0*100:,.2f}% | Confianza: {conf_0.values} | Promedio: ${mean_0:,.2f} \\n\")\n",
    "print(f\"Región 1 riesgo: {risk_1*100:,.2f}% | Confianza: {conf_1.values} | Promedio: ${mean_1:,.2f} \\n\")\n",
    "print(f\"Región 2 riesgo: {risk_2*100:,.2f}% | Confianza: {conf_2.values} | Promedio: ${mean_2:,.2f} \\n\")\n"
   ]
  },
  {
   "cell_type": "code",
   "execution_count": 20,
   "metadata": {},
   "outputs": [
    {
     "data": {
      "text/html": [
       "<div>\n",
       "<style scoped>\n",
       "    .dataframe tbody tr th:only-of-type {\n",
       "        vertical-align: middle;\n",
       "    }\n",
       "\n",
       "    .dataframe tbody tr th {\n",
       "        vertical-align: top;\n",
       "    }\n",
       "\n",
       "    .dataframe thead th {\n",
       "        text-align: right;\n",
       "    }\n",
       "</style>\n",
       "<table border=\"1\" class=\"dataframe\">\n",
       "  <thead>\n",
       "    <tr style=\"text-align: right;\">\n",
       "      <th></th>\n",
       "      <th>Región</th>\n",
       "      <th>Beneficio promedio</th>\n",
       "      <th>Riesgo de pérdida (%)</th>\n",
       "      <th>IC 5%</th>\n",
       "      <th>IC 95%</th>\n",
       "    </tr>\n",
       "  </thead>\n",
       "  <tbody>\n",
       "    <tr>\n",
       "      <th>1</th>\n",
       "      <td>1</td>\n",
       "      <td>4.560451e+06</td>\n",
       "      <td>1.5</td>\n",
       "      <td>1.094757e+06</td>\n",
       "      <td>7.910055e+06</td>\n",
       "    </tr>\n",
       "    <tr>\n",
       "      <th>2</th>\n",
       "      <td>2</td>\n",
       "      <td>4.044039e+06</td>\n",
       "      <td>7.6</td>\n",
       "      <td>-5.853344e+05</td>\n",
       "      <td>8.411240e+06</td>\n",
       "    </tr>\n",
       "    <tr>\n",
       "      <th>0</th>\n",
       "      <td>0</td>\n",
       "      <td>3.961650e+06</td>\n",
       "      <td>6.9</td>\n",
       "      <td>-3.718160e+05</td>\n",
       "      <td>8.426882e+06</td>\n",
       "    </tr>\n",
       "  </tbody>\n",
       "</table>\n",
       "</div>"
      ],
      "text/plain": [
       "  Región  Beneficio promedio  Riesgo de pérdida (%)         IC 5%  \\\n",
       "1      1        4.560451e+06                    1.5  1.094757e+06   \n",
       "2      2        4.044039e+06                    7.6 -5.853344e+05   \n",
       "0      0        3.961650e+06                    6.9 -3.718160e+05   \n",
       "\n",
       "         IC 95%  \n",
       "1  7.910055e+06  \n",
       "2  8.411240e+06  \n",
       "0  8.426882e+06  "
      ]
     },
     "metadata": {},
     "output_type": "display_data"
    }
   ],
   "source": [
    "def mostrar_resultados():\n",
    "    resultados = pd.DataFrame({\n",
    "        'Región': ['0', '1', '2'],\n",
    "        'Beneficio promedio': [mean_0, mean_1, mean_2],\n",
    "        'Riesgo de pérdida (%)': [risk_0 * 100, risk_1 * 100, risk_2 * 100],\n",
    "        'IC 5%': [conf_0[0.05], conf_1[0.05], conf_2[0.05]],\n",
    "        'IC 95%': [conf_0[0.95], conf_1[0.95], conf_2[0.95]],\n",
    "    })\n",
    "    display(resultados.sort_values(by='Beneficio promedio', ascending=False))\n",
    "\n",
    "mostrar_resultados()"
   ]
  },
  {
   "cell_type": "code",
   "execution_count": 21,
   "metadata": {},
   "outputs": [
    {
     "data": {
      "image/png": "[encoded data removed]",
      "text/plain": [
       "<Figure size 800x500 with 1 Axes>"
      ]
     },
     "metadata": {},
     "output_type": "display_data"
    }
   ],
   "source": [
    "beneficios = [mean_0, mean_1, mean_2]\n",
    "regiones = ['Región 0', 'Región 1', 'Región 2']\n",
    "\n",
    "lower_bounds = [mean_0 - conf_0[0.05], mean_1 - conf_1[0.05], mean_2 - conf_2[0.05]]\n",
    "upper_bounds = [conf_0[0.95] - mean_0, conf_1[0.95] - mean_1, conf_2[0.95] - mean_2]\n",
    "\n",
    "plt.figure(figsize=(8, 5))\n",
    "plt.errorbar(regiones, beneficios, yerr=[lower_bounds, upper_bounds], fmt='o', capsize=10, color='darkblue')\n",
    "plt.ylabel(\"Beneficio promedio ($)\")\n",
    "plt.title(\"Beneficio promedio con intervalo de confianza del 95%\")\n",
    "plt.grid(True)\n",
    "plt.tight_layout()\n",
    "plt.show()\n"
   ]
  },
  {
   "cell_type": "code",
   "execution_count": 22,
   "metadata": {},
   "outputs": [
    {
     "data": {
      "image/png": "[encoded data removed]",
      "text/plain": [
       "<Figure size 800x500 with 1 Axes>"
      ]
     },
     "metadata": {},
     "output_type": "display_data"
    }
   ],
   "source": [
    "riesgos = [risk_0 * 100, risk_1 * 100, risk_2 * 100]\n",
    "\n",
    "plt.figure(figsize=(8, 5))\n",
    "bars = plt.bar(regiones, riesgos, color='salmon')\n",
    "plt.ylabel(\"Riesgo de pérdida (%)\")\n",
    "plt.title(\"Riesgo estimado por región\")\n",
    "\n",
    "# Etiquetas encima de las barras\n",
    "for bar in bars:\n",
    "    yval = bar.get_height()\n",
    "    plt.text(bar.get_x() + bar.get_width()/2, yval + 0.1, f\"{yval:.2f}%\", ha='center', va='bottom')\n",
    "\n",
    "plt.axhline(2.5, color='gray', linestyle='--', label='Límite de riesgo aceptable (2.5%)')\n",
    "plt.legend()\n",
    "plt.tight_layout()\n",
    "plt.show()\n"
   ]
  },
  {
   "cell_type": "markdown",
   "metadata": {},
   "source": [
    "**CONCLUSIONES**\n",
    "\n",
    "La región 1 fue la única que presentó una ganancia mayor en promedio por barril de $4,560,451.06 y un riesgo estimado del 1.5%, siendo menor al que se tenía contemplado (2.5%)."
   ]
  }
 ],
 "metadata": {
  "kernelspec": {
   "display_name": "base",
   "language": "python",
   "name": "python3"
  },
  "language_info": {
   "codemirror_mode": {
    "name": "ipython",
    "version": 3
   },
   "file_extension": ".py",
   "mimetype": "text/x-python",
   "name": "python",
   "nbconvert_exporter": "python",
   "pygments_lexer": "ipython3",
   "version": "3.13.5"
  }
 },
 "nbformat": 4,
 "nbformat_minor": 4
}